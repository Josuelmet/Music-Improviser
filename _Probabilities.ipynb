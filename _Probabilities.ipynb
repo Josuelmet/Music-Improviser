{
 "cells": [
  {
   "cell_type": "markdown",
   "id": "e1387f93-eb54-4b6d-9dad-2db5d4c4c8d6",
   "metadata": {
    "id": "e1387f93-eb54-4b6d-9dad-2db5d4c4c8d6"
   },
   "source": [
    "# Step 1: Compression and Vectorization of Songs\n",
    "\n",
    "References: \n",
    "\n",
    "https://github.com/shubham3121/music-generation-using-rnn \n",
    "\n",
    "https://www.hackerearth.com/blog/developers/jazz-music-using-deep-learning/\n",
    "\n",
    "https://pyguitarpro.readthedocs.io/en/stable/index.html"
   ]
  },
  {
   "cell_type": "markdown",
   "id": "ad10df5b-4fd9-4d25-9bb4-577d91d4631d",
   "metadata": {
    "id": "55d3a53d-b08f-4edc-a37c-faa5a41051aa"
   },
   "source": [
    "## Imports"
   ]
  },
  {
   "cell_type": "code",
   "execution_count": 1,
   "id": "87a0d6de-23af-4d2b-a938-e38414a4f9dc",
   "metadata": {
    "id": "b4e83e4a-1a78-4c3e-8e94-d1e1a13637ef"
   },
   "outputs": [],
   "source": [
    "import cv2 as cv\n",
    "from glob import glob\n",
    "from guitarpro import *\n",
    "import guitarpro\n",
    "from matplotlib import pyplot as plt\n",
    "import numpy as np\n",
    "import os\n",
    "import pickle\n",
    "from tqdm import tqdm\n",
    "\n",
    "from keras.utils import np_utils\n",
    "\n",
    "from _Compressor import compress_track\n",
    "from _Decompressor import decompress_track"
   ]
  },
  {
   "cell_type": "markdown",
   "id": "fe3c40df-bfdd-41e5-8368-6213c1f1c59c",
   "metadata": {},
   "source": [
    "## Constants"
   ]
  },
  {
   "cell_type": "code",
   "execution_count": 2,
   "id": "c7b42ec2-b3db-4fd5-adfd-4895ba23b012",
   "metadata": {},
   "outputs": [],
   "source": [
    "MIDI  = {str(GuitarString(number=0, value=val)) : val for val in range(128)}"
   ]
  },
  {
   "cell_type": "markdown",
   "id": "92cfe3a3-8ed5-45f7-9772-ae6dde06f7d6",
   "metadata": {},
   "source": [
    "## Choose Songs (Make sure to convert to 4/4 before running)"
   ]
  },
  {
   "cell_type": "code",
   "execution_count": 3,
   "id": "7d95c988-10fa-4456-bf15-8349a3a650bd",
   "metadata": {},
   "outputs": [],
   "source": [
    "# Choose a certain cohort of songs\n",
    "\n",
    "#filenames = glob('metallica-*.gp*')\n",
    "#filenames = glob('korn-*.gp*') + glob('metallica-*.gp*') + glob('slayer-*.gp*')\n",
    "filenames = glob('slayer-*.gp*') + glob('sepultura-*.gp*')\n",
    "#filenames = glob('slipknot-*gp*') + glob('linkin_park-*gp*')\n",
    "\n",
    "#filenames = [file for file in glob('*.gp*') if file[0] != '_']"
   ]
  },
  {
   "cell_type": "markdown",
   "id": "7a980534-b2c7-4bd0-ba38-666ed00f2b36",
   "metadata": {},
   "source": [
    "## Compress Each Track"
   ]
  },
  {
   "cell_type": "code",
   "execution_count": 4,
   "id": "0f6e747a-35fc-4bc4-9992-ac21ee7a212d",
   "metadata": {},
   "outputs": [
    {
     "name": "stderr",
     "output_type": "stream",
     "text": [
      "100%|██████████| 12/12 [00:09<00:00,  1.26it/s]"
     ]
    },
    {
     "name": "stdout",
     "output_type": "stream",
     "text": [
      "Number of tracks: 47\n"
     ]
    },
    {
     "name": "stderr",
     "output_type": "stream",
     "text": [
      "\n"
     ]
    }
   ],
   "source": [
    "compressed_tracks = []\n",
    "\n",
    "for filename in tqdm(filenames):\n",
    "    song = guitarpro.parse(filename)\n",
    "    \n",
    "    for track in song.tracks:\n",
    "        #print(track.name, track.channel.instrument)\n",
    "        if track.isPercussionTrack:\n",
    "        #    print('\\tskip')\n",
    "            continue\n",
    "            \n",
    "        compressed_track = compress_track(track)\n",
    "\n",
    "        # Ignore the current track if it only contains rests.\n",
    "        if all(all(beat[0] == 'rest' for beat in measure) for measure in compressed_track):\n",
    "        #    print('\\tskip')\n",
    "            continue\n",
    "            \n",
    "        compressed_tracks.append(compressed_track)\n",
    "        \n",
    "\n",
    "print(f'Number of tracks: {len(compressed_tracks)}')\n",
    "\n",
    "#[print(track.name) for track in tracks]"
   ]
  },
  {
   "cell_type": "markdown",
   "id": "863b6aed-6906-44eb-93b8-3463438072cb",
   "metadata": {},
   "source": [
    "## Compile Note Vocabulary"
   ]
  },
  {
   "cell_type": "code",
   "execution_count": 5,
   "id": "a43df549-4e6b-4e82-a27b-6564d371afd8",
   "metadata": {},
   "outputs": [
    {
     "name": "stderr",
     "output_type": "stream",
     "text": [
      "100%|██████████| 47/47 [00:00<00:00, 1346.44it/s]"
     ]
    },
    {
     "name": "stdout",
     "output_type": "stream",
     "text": [
      "Number of notes played:\t 41869\n",
      "Number of unique notes:\t 492\n"
     ]
    },
    {
     "name": "stderr",
     "output_type": "stream",
     "text": [
      "\n"
     ]
    }
   ],
   "source": [
    "notes = []\n",
    "notes_set = set()\n",
    "\n",
    "for compressed_track in tqdm(compressed_tracks):\n",
    " \n",
    "    # Add each beat's note to the notes list.\n",
    "    for measure in compressed_track:\n",
    "        \n",
    "        keep = True\n",
    "        \n",
    "        # Skip measures that are only rests.\n",
    "        # TODO: Consider only removing rest measures that occur at least twice in a row.\n",
    "        if all(beat[0] == 'rest' for beat in measure):\n",
    "            keep = False\n",
    "        \n",
    "        for beat in measure:\n",
    "            notes_set.add(beat)\n",
    "            if keep:\n",
    "                notes.append(beat)\n",
    "                \n",
    "                \n",
    "notes_set = notes_set\n",
    "n_vocab = len(notes_set)\n",
    "\n",
    "# TODO: Figure out a better way to organize note_to_int to truly capture similarities between notes.\n",
    "note_to_int = dict((note, number) for number, note in enumerate(sorted(notes_set)))\n",
    "int_to_note = {v: k for k, v in note_to_int.items()} # Invert the map\n",
    "            \n",
    "\n",
    "with open('notes', 'wb') as filepath:\n",
    "    pickle.dump(notes, filepath)\n",
    "    pickle.dump(notes_set, filepath)\n",
    "    \n",
    "    \n",
    "print(f'Number of notes played:\\t {len(notes)}')\n",
    "print(f'Number of unique notes:\\t {n_vocab}')"
   ]
  },
  {
   "cell_type": "markdown",
   "id": "da4d6daf-5478-484e-81ad-0fcd6e7716ab",
   "metadata": {},
   "source": [
    "## Gather Similarity Matrices, Compute the Average"
   ]
  },
  {
   "cell_type": "code",
   "execution_count": 6,
   "id": "b4783e65-55e0-4e71-a9dc-6f352d7f1b74",
   "metadata": {},
   "outputs": [],
   "source": [
    "def f(x):\n",
    "    if type(x) != str:\n",
    "        x = int_to_note[x][0]\n",
    "        \n",
    "    if x == 'rest' or x == 'tied':\n",
    "        return -2\n",
    "    if x == 'dead':\n",
    "        return -1\n",
    "    \n",
    "    return int(x.split('_')[0])"
   ]
  },
  {
   "cell_type": "code",
   "execution_count": 7,
   "id": "49bf5bec-b1ed-44b5-a779-55ff54a78562",
   "metadata": {},
   "outputs": [
    {
     "name": "stderr",
     "output_type": "stream",
     "text": [
      "100%|██████████| 47/47 [00:02<00:00, 16.74it/s]\n"
     ]
    },
    {
     "data": {
      "text/plain": [
       "<matplotlib.image.AxesImage at 0x266dfdcf2e0>"
      ]
     },
     "execution_count": 7,
     "metadata": {},
     "output_type": "execute_result"
    },
    {
     "data": {
      "image/png": "[encoded data removed]",
      "text/plain": [
       "<Figure size 432x288 with 1 Axes>"
      ]
     },
     "metadata": {
      "needs_background": "light"
     },
     "output_type": "display_data"
    }
   ],
   "source": [
    "similarity_mats = []\n",
    "\n",
    "for compressed_track in tqdm(compressed_tracks):\n",
    "    \n",
    "    ct_notes = []\n",
    "    for measure in compressed_track:\n",
    "        ct_notes.extend(measure)\n",
    "\n",
    "    ints = np.array([f(note[0]) for note in ct_notes])\n",
    "    # ints = np.array([note_to_int[note] for note in ct_notes])\n",
    "\n",
    "    mat = np.ones((len(ints), len(ints))) * ints\n",
    "\n",
    "    diff = mat - ints.reshape((-1, 1))\n",
    "\n",
    "    #similarity = np.exp(-np.abs(diff) / len(note_to_int))\n",
    "    similarity = np.exp(-np.abs(diff))\n",
    "    \n",
    "    similarity_mats.append(similarity)\n",
    "    \n",
    "\n",
    "SHAPE= (200, 200)\n",
    "reshaped = np.array([cv.resize(m, SHAPE) for m in similarity_mats])\n",
    "\n",
    "similarity_matrix = reshaped.mean(axis=0)\n",
    "plt.imshow(similarity_matrix)"
   ]
  },
  {
   "cell_type": "markdown",
   "id": "ebe44485-3c5e-4bd8-8a49-b450ea89eb4d",
   "metadata": {},
   "source": [
    "## Get some patterns in the data"
   ]
  },
  {
   "cell_type": "code",
   "execution_count": 8,
   "id": "6fb889ec-2a0c-4a4f-9426-d8f248b24839",
   "metadata": {},
   "outputs": [
    {
     "name": "stdout",
     "output_type": "stream",
     "text": [
      "Top 15 most common values:\n",
      "[#Semitones, duration, isDotted]\n",
      "\n",
      "['0' '8' 'False'] \t 17.1%\n",
      "['0' '16' 'False'] \t 16.3%\n",
      "['1' '8' 'False'] \t 4.1%\n",
      "['3' '8' 'False'] \t 4.1%\n",
      "['0_5' '8' 'False'] \t 3.7%\n",
      "['1' '16' 'False'] \t 3.5%\n",
      "['1_5' '8' 'False'] \t 2.9%\n",
      "['0_5' '16' 'False'] \t 1.8%\n",
      "['3_5' '8' 'False'] \t 1.7%\n",
      "['2' '8' 'False'] \t 1.6%\n",
      "['4' '16' 'False'] \t 1.2%\n",
      "['4' '8' 'False'] \t 1.1%\n",
      "['2' '16' 'False'] \t 1.0%\n",
      "['1' '8' 'True'] \t 0.9%\n",
      "['rest' '8' 'False'] \t 0.8%\n"
     ]
    }
   ],
   "source": [
    "vals, freq = np.unique([note_to_int[x] for x in notes], return_counts=True)\n",
    "\n",
    "vals = np.array([int_to_note[x] for x in vals])\n",
    "freq = 100 * freq / freq.sum()\n",
    "\n",
    "\n",
    "sort_idx = freq.argsort()[::-1]\n",
    "\n",
    "print('Top 15 most common values:')\n",
    "print('[#Semitones, duration, isDotted]\\n')\n",
    "for idx in sort_idx[:15]:\n",
    "    print(f'{vals[idx]} \\t {freq[idx] :.1f}%')"
   ]
  },
  {
   "cell_type": "markdown",
   "id": "4377cb20-87e8-49cd-bcb5-6814a94ce29f",
   "metadata": {},
   "source": [
    "## Calculate transition probabilities"
   ]
  },
  {
   "cell_type": "code",
   "execution_count": 9,
   "id": "f0ba91e9-ff3c-4836-90ed-049761c0ed33",
   "metadata": {},
   "outputs": [
    {
     "name": "stderr",
     "output_type": "stream",
     "text": [
      "<ipython-input-9-c6c29efaff6b>:9: RuntimeWarning: invalid value encountered in true_divide\n",
      "  transitions /= transitions.sum(axis=1, keepdims=True)\n"
     ]
    }
   ],
   "source": [
    "ints = np.array([note_to_int[note] for note in notes])\n",
    "\n",
    "\n",
    "transitions = np.zeros((n_vocab, n_vocab))\n",
    "\n",
    "for x1, x2 in zip(ints[:-1], ints[1:]):\n",
    "    transitions[x1, x2] += 1\n",
    "    \n",
    "transitions /= transitions.sum(axis=1, keepdims=True)\n",
    "transitions = np.nan_to_num(transitions)"
   ]
  },
  {
   "cell_type": "markdown",
   "id": "a51a59d0-89bf-49f2-ba66-1d3cf328a52f",
   "metadata": {},
   "source": [
    "## Generate a song probabilistically"
   ]
  },
  {
   "cell_type": "code",
   "execution_count": 10,
   "id": "7cd8e59b-7474-49de-a347-392be4a1b8e2",
   "metadata": {
    "tags": []
   },
   "outputs": [],
   "source": [
    "SONG_LENGTH = 200\n",
    "song = np.zeros(SONG_LENGTH, dtype=object)\n",
    "\n",
    "#song[0] = np.random.choice(sort_idx[:15])\n",
    "song[0] = np.random.choice(len(freq), p=freq/100)\n",
    "\n",
    "rng = np.random.default_rng()"
   ]
  },
  {
   "cell_type": "code",
   "execution_count": 11,
   "id": "e3145bd8-862f-4cc3-b26a-15d2cbcd969b",
   "metadata": {},
   "outputs": [],
   "source": [
    "for i in range(1, SONG_LENGTH):\n",
    "\n",
    "    p = transitions[song[i-1]]\n",
    "    potential_next_notes = np.where(p > 0)[0]\n",
    "    \n",
    "    errors = []\n",
    "\n",
    "    for next_note in potential_next_notes:\n",
    "        copy = np.copy(song)\n",
    "        copy[i] = next_note\n",
    "\n",
    "\n",
    "        ints = np.array([f(note) for note in copy[:i+1]])\n",
    "\n",
    "        mat = np.ones((len(ints), len(ints))) * ints\n",
    "\n",
    "        diff = mat - ints.reshape((-1, 1))\n",
    "\n",
    "        #similarity = np.exp(-np.abs(diff) / len(note_to_int))\n",
    "        similarity = np.exp(-np.abs(diff))\n",
    "\n",
    "        template = similarity_matrix[:i+1, :i+1]\n",
    "\n",
    "        rms = np.sqrt(np.mean(np.square(similarity - template)))\n",
    "        errors.append(rms)\n",
    "\n",
    "    \n",
    "    #errors /= np.sum(errors)\n",
    "    #p = 1 - np.array(errors)\n",
    "        #p -= p.min()\n",
    "        #p = p ** 5\n",
    "    #p = p ** 5\n",
    "    #p /= p.sum()\n",
    "    #song[i] = rng.choice(potential_next_notes, p=p)\n",
    "    \n",
    "    choices = np.where(errors == np.min(errors))[0]\n",
    "    song[i] = potential_next_notes[np.random.choice(choices)]\n",
    "    \n",
    "song = [int_to_note[num] for num in song]"
   ]
  },
  {
   "cell_type": "code",
   "execution_count": 12,
   "id": "28756734-a438-4875-a80e-d6e6d167cec3",
   "metadata": {},
   "outputs": [],
   "source": [
    "'''\n",
    "SONG_LENGTH = 200\n",
    "\n",
    "song = np.zeros(SONG_LENGTH, dtype=object)\n",
    "\n",
    "# Choose one of the top 15 notes as the starting note.\n",
    "# TODO: weigh options by frequency!\n",
    "song[0] = np.random.choice(sort_idx[:15])\n",
    "\n",
    "for i in range(1, SONG_LENGTH):\n",
    "    song[i] = np.random.choice(n_vocab, p=transitions[song[i-1]])\n",
    "    \n",
    "    \n",
    "song = [int_to_note[x] for x in song]\n",
    "print(song[0])\n",
    "''';"
   ]
  },
  {
   "cell_type": "markdown",
   "id": "e426b8a3-54f8-4081-b28e-7af8673e9256",
   "metadata": {},
   "source": [
    "## Convert Generated Song to 4/4 Time"
   ]
  },
  {
   "cell_type": "code",
   "execution_count": 13,
   "id": "592afb14-cea5-430e-8240-9e8e253067b5",
   "metadata": {},
   "outputs": [],
   "source": [
    "def thirty_seconds_to_duration(count):\n",
    "    if count % 3 == 0:\n",
    "        # If the note is dotted, do 32 / (i * 2/3), and return isDotted = True.\n",
    "        return (48//count, True)\n",
    "    else:\n",
    "        # If the note is not dotted, to 32 / i, and return isDotted = False.\n",
    "        return (32//count, False)\n",
    "\n",
    "def quantize_thirty_seconds(value):\n",
    "\n",
    "    # 32nd-note values of each fundamental type of note (not including 64th-notes, of course).\n",
    "    vals = np.array([32, # whole\n",
    "                     24, # dotted half\n",
    "                     16, # half\n",
    "                     12, # dotted quarter\n",
    "                     8,  # quarter\n",
    "                     6,  # dotted eigth\n",
    "                     4,  # eigth\n",
    "                     3,  # dotted sixteenth\n",
    "                     2,  # sixteenth\n",
    "                     1]) # thirty-second\n",
    "    \n",
    "    list_out = []\n",
    "\n",
    "    for v in vals:\n",
    "        if v <= value:\n",
    "            list_out.append(thirty_seconds_to_duration(v))\n",
    "            value -= v\n",
    "            \n",
    "    return np.array(list_out)"
   ]
  },
  {
   "cell_type": "code",
   "execution_count": 14,
   "id": "132f76f7-3fe7-4a15-a51a-9264c21be182",
   "metadata": {},
   "outputs": [],
   "source": [
    "# This will be the prediction output\n",
    "new_prediction_output = []\n",
    "\n",
    "\n",
    "time = 0\n",
    "for beat in song:\n",
    "    \n",
    "    # Calculate the fraction of a measure encompassed by the current beat / chord.\n",
    "    beat_time = (1 / beat[1]) * (1 + 0.5 * beat[2])\n",
    "    \n",
    "    # Calculate the fraction of a measure taken up by all notes in the measure.\n",
    "    # Calculate any residual time to see if this measure (in 4/4 time) is longer than 1 measure.\n",
    "    measure_time = time + beat_time\n",
    "    leftover_time = (measure_time) % 1\n",
    "    \n",
    "    # If the measure count (i.e., the measure integer) has changed and there is significant left-over beat time:\n",
    "    if (int(measure_time) > int(time)) and (leftover_time > 1/128):\n",
    "        \n",
    "        # Calculate the initial 32nd notes encompassed by this beat in the current measure.\n",
    "        this_measure_thirty_seconds = int(32 * (1 - time % 1))\n",
    "        # Calculate the remaining 32nd notes encompassed by this beat in the next measure.\n",
    "        next_measure_thirty_seconds = int(32 * leftover_time)\n",
    "        \n",
    "        # Get the Duration object parameters for this measure and the next measure.\n",
    "        this_measure_durations = quantize_thirty_seconds(this_measure_thirty_seconds)\n",
    "        next_measure_durations = quantize_thirty_seconds(next_measure_thirty_seconds)\n",
    "        \n",
    "        \n",
    "        #print(f'{{ {32 / beat[1]}')\n",
    "        for duration_idx, duration in enumerate(this_measure_durations):\n",
    "            time += (1 / duration[0]) * (1 + 0.5 * duration[1])\n",
    "            \n",
    "            #print(time, '\\t', time * 32)\n",
    "                \n",
    "            chord = beat[0] if duration_idx == 0 else 'tied'\n",
    "            \n",
    "            new_prediction_output.append((chord, duration[0], duration[1]))\n",
    "            \n",
    "            \n",
    "        for duration in next_measure_durations:\n",
    "            time += (1 / duration[0]) * (1 + 0.5 * duration[1])\n",
    "            \n",
    "            #print(time, '\\t', time * 32)\n",
    "            \n",
    "            new_prediction_output.append(('tied', duration[0], duration[1]))\n",
    "            \n",
    "               \n",
    "        continue\n",
    "    \n",
    "    \n",
    "    time += beat_time\n",
    "    new_prediction_output.append((beat[0], beat[1], beat[2]))\n",
    "    \n",
    "    #print(time, '\\t', time * 32)\n",
    "\n",
    "\n",
    "'''\n",
    "time = 0\n",
    "time2 = 0\n",
    "idx = 0\n",
    "\n",
    "for idx2, beat2 in enumerate(new_prediction_output[:100]):\n",
    "    beat = prediction_output[idx]\n",
    "    \n",
    "    if time == time2:\n",
    "        print(beat[0], '\\t', time, '\\t\\t', beat2[0], '\\t', time2)\n",
    "        \n",
    "        idx += 1\n",
    "        \n",
    "        time += (1 / beat[1]) * (1 + 0.5 * beat[2])\n",
    "    \n",
    "    else:\n",
    "        print('\\t\\t\\t\\t', beat2[0], '\\t', time2)\n",
    "\n",
    "    \n",
    "    \n",
    "    time2 += (1 / beat2[1]) * (1 + 0.5 * beat2[2])\n",
    "''';"
   ]
  },
  {
   "cell_type": "markdown",
   "id": "768f961c-99bd-426c-8d11-356ab5a17dce",
   "metadata": {},
   "source": [
    "## Separate prediction output notes into measures"
   ]
  },
  {
   "cell_type": "code",
   "execution_count": 15,
   "id": "49f1e456-73dc-455a-9450-f046dcc7a8f8",
   "metadata": {},
   "outputs": [
    {
     "name": "stdout",
     "output_type": "stream",
     "text": [
      "4/4 adjusted correctly: True\n"
     ]
    }
   ],
   "source": [
    "# Use the previously calculated cumulative time as the number of measures in the new 4/4 song.\n",
    "num_measures = int(np.ceil(time))\n",
    "\n",
    "song = np.empty(num_measures, dtype=object)\n",
    "\n",
    "time = 0\n",
    "m_idx = 0\n",
    "\n",
    "timestamps = []\n",
    "\n",
    "for beat in new_prediction_output:\n",
    "    #print(time)\n",
    "    timestamps.append(time)\n",
    "    \n",
    "    m_idx = int(time)\n",
    "    \n",
    "    if song[m_idx] is None:\n",
    "        \n",
    "        song[m_idx] = [beat]\n",
    "    else:\n",
    "        song[m_idx].append(beat)\n",
    "    \n",
    "    \n",
    "    time += (1 / beat[1]) * (1 + 0.5 * beat[2])\n",
    "    \n",
    "    \n",
    "print(f'4/4 adjusted correctly: {set(range(num_measures)).issubset(set(timestamps))}')"
   ]
  },
  {
   "cell_type": "markdown",
   "id": "2b2c6837-27f7-41d5-87f3-563371d42186",
   "metadata": {},
   "source": [
    "## Write Song to.gp5 File"
   ]
  },
  {
   "cell_type": "code",
   "execution_count": 16,
   "id": "f1900955-b4f4-4d55-b39f-b7028b2e3e6b",
   "metadata": {},
   "outputs": [
    {
     "name": "stdout",
     "output_type": "stream",
     "text": [
      "Finished\n"
     ]
    }
   ],
   "source": [
    "# Standard tuning\n",
    "tuning = {1: MIDI['E4'],\n",
    "          2: MIDI['B3'],\n",
    "          3: MIDI['G3'],\n",
    "          4: MIDI['D3'],\n",
    "          5: MIDI['A2'],\n",
    "          6: MIDI['E2']}\n",
    "\n",
    "guitarpro.write(decompress_track(song, tuning), '_probabilistic_generation.gp5')\n",
    "print('Finished')"
   ]
  }
 ],
 "metadata": {
  "colab": {
   "collapsed_sections": [],
   "name": "Metal Music Sampling.ipynb",
   "provenance": []
  },
  "kernelspec": {
   "display_name": "Python 3",
   "language": "python",
   "name": "python3"
  },
  "language_info": {
   "codemirror_mode": {
    "name": "ipython",
    "version": 3
   },
   "file_extension": ".py",
   "mimetype": "text/x-python",
   "name": "python",
   "nbconvert_exporter": "python",
   "pygments_lexer": "ipython3",
   "version": "3.8.8"
  }
 },
 "nbformat": 4,
 "nbformat_minor": 5
}
