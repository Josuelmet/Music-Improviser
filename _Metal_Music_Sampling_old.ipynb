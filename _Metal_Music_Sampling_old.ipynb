{
 "cells": [
  {
   "cell_type": "markdown",
   "id": "e1387f93-eb54-4b6d-9dad-2db5d4c4c8d6",
   "metadata": {
    "id": "e1387f93-eb54-4b6d-9dad-2db5d4c4c8d6"
   },
   "source": [
    "# Metal Music Sampling\n",
    "\n",
    "References: \n",
    "\n",
    "https://github.com/shubham3121/music-generation-using-rnn \n",
    "\n",
    "https://www.hackerearth.com/blog/developers/jazz-music-using-deep-learning/\n",
    "\n",
    "https://pyguitarpro.readthedocs.io/en/stable/index.html"
   ]
  },
  {
   "cell_type": "markdown",
   "id": "55d3a53d-b08f-4edc-a37c-faa5a41051aa",
   "metadata": {
    "id": "55d3a53d-b08f-4edc-a37c-faa5a41051aa"
   },
   "source": [
    "### Imports"
   ]
  },
  {
   "cell_type": "code",
   "execution_count": 37,
   "id": "b4e83e4a-1a78-4c3e-8e94-d1e1a13637ef",
   "metadata": {
    "id": "b4e83e4a-1a78-4c3e-8e94-d1e1a13637ef"
   },
   "outputs": [],
   "source": [
    "from glob import glob\n",
    "from matplotlib import pyplot as plt\n",
    "import numpy as np\n",
    "import os\n",
    "import pickle\n",
    "import tensorflow as tf\n",
    "from tqdm import tqdm\n",
    "\n",
    "from keras.callbacks import ModelCheckpoint\n",
    "from keras.models import Sequential\n",
    "from keras.layers import Activation, Dense, LSTM, Dropout, Flatten\n",
    "from keras.utils import np_utils"
   ]
  },
  {
   "cell_type": "markdown",
   "id": "fbc65cc3-80c6-43a3-8fe4-f567213350aa",
   "metadata": {
    "id": "fbc65cc3-80c6-43a3-8fe4-f567213350aa"
   },
   "source": [
    "### Play an example file"
   ]
  },
  {
   "cell_type": "code",
   "execution_count": null,
   "id": "575dea9d-a7df-496f-a9dc-5e4b78f9e600",
   "metadata": {},
   "outputs": [],
   "source": [
    "# pip install pyguitarpro"
   ]
  },
  {
   "cell_type": "code",
   "execution_count": 2,
   "id": "66d2842e-d5be-411a-986c-53c9ec670a3e",
   "metadata": {
    "id": "66d2842e-d5be-411a-986c-53c9ec670a3e"
   },
   "outputs": [],
   "source": [
    "SEQUENCE_LENGTH = 100\n",
    "\n",
    "songs = glob('*.mid')"
   ]
  },
  {
   "cell_type": "markdown",
   "id": "6f4529f3-ced6-4113-9b16-5246f54601d7",
   "metadata": {},
   "source": [
    "### PyGuitarPro / using tabulature"
   ]
  },
  {
   "cell_type": "code",
   "execution_count": 3,
   "id": "b194bc7c-8347-40f8-884f-5bac851f7f9f",
   "metadata": {},
   "outputs": [
    {
     "name": "stdout",
     "output_type": "stream",
     "text": [
      "Guitar - James Munky Shaffer 29\n",
      "Guitar - Brian Head Welch 30\n",
      "Distortion Overdub 30\n",
      "Bass - Fieldy 36\n",
      "Bass - Overdub 35\n",
      "Bass Boom 79\n",
      "Drums - David Silveria 0\n",
      "Vocals - Johnathan Davis (Lyrics) 30\n"
     ]
    }
   ],
   "source": [
    "# TODO: Consider PyGuitarPro\n",
    "\n",
    "import guitarpro\n",
    "\n",
    "# PITCH[i] = the pitch associated with midi note number i.\n",
    "# For example, PITCH[69] = 'A4'\n",
    "PITCH = {val : str(guitarpro.GuitarString(number=0, value=val)) for val in range(128)}\n",
    "# MIDI[string] = the midi number associated with the note described by string.\n",
    "# For example, MIDI['A4'] = 69.\n",
    "MIDI  = {str(guitarpro.GuitarString(number=0, value=val)) : val for val in range(128)}\n",
    "\n",
    "\n",
    "'''\n",
    "Make sure to convert every tab to 4/4 before pre-processing it, so that reconstruction works correctly.\n",
    "'''\n",
    "\n",
    "#demo = guitarpro.parse('deftones-be_quiet_and_drive.gp5')\n",
    "\n",
    "#demo = guitarpro.parse('dream-theater-pull_me_under.gp5')\n",
    "\n",
    "demo = guitarpro.parse('korn-blind.gp5')\n",
    "#demo = guitarpro.parse('korn-chi.gp5')\n",
    "#demo = guitarpro.parse('korn-falling_away_from_me.gp5')\n",
    "#demo = guitarpro.parse('korn-freak_on_a_leash.gp5')\n",
    "#demo = guitarpro.parse('korn-twist.gp5')\n",
    "\n",
    "#demo = guitarpro.parse('mayhem-chainsaw_gutsfuck.gp4') # 5/4 time\n",
    "#demo = guitarpro.parse('mayhem-deathcrush.gp4') # 5/4 time\n",
    "\n",
    "#demo = guitarpro.parse('megadeth-wake_up_dead.gp5')\n",
    "\n",
    "#demo = guitarpro.parse('metallica-enter_sandman.gp5')\n",
    "#demo = guitarpro.parse('metallica-master_of_puppets.gp5')\n",
    "\n",
    "#demo = guitarpro.parse('pantera-this_love.gp5')\n",
    "\n",
    "#demo = guitarpro.parse('ratm-killing_in_the_name.gp5')\n",
    "\n",
    "#demo = guitarpro.parse('sepultura-kaiowas.gp5') # 12/8 time\n",
    "#demo = guitarpro.parse('sepultura-arise.gp5')\n",
    "\n",
    "#demo = guitarpro.parse('slayer-raining_blood.gp5')\n",
    "#demo = guitarpro.parse('slayer-seasons_in_the_abyss.gp5')\n",
    "#demo = guitarpro.parse('slayer-south_of_heaven.gp5')\n",
    "\n",
    "#demo = guitarpro.parse('slipknot-diluted.gp4')\n",
    "#demo = guitarpro.parse('slipknot-people_=_shit.gp5')\n",
    "\n",
    "#demo = guitarpro.parse('tool-schism.gp5')\n",
    "\n",
    "\n",
    "for track in demo.tracks:\n",
    "    print(track.name, track.channel.instrument)"
   ]
  },
  {
   "cell_type": "code",
   "execution_count": 42,
   "id": "2a557a17-fcb3-47d7-808a-526579eac727",
   "metadata": {},
   "outputs": [
    {
     "data": {
      "text/plain": [
       "['Guitar - James Munky Shaffer',\n",
       " 'Guitar - Brian Head Welch',\n",
       " 'Distortion Overdub',\n",
       " 'Bass - Fieldy',\n",
       " 'Bass - Overdub',\n",
       " 'Bass Boom',\n",
       " 'Vocals - Johnathan Davis (Lyrics)']"
      ]
     },
     "execution_count": 42,
     "metadata": {},
     "output_type": "execute_result"
    }
   ],
   "source": [
    "[track.name for track in demo.tracks if not track.isPercussionTrack]"
   ]
  },
  {
   "cell_type": "code",
   "execution_count": 4,
   "id": "e6a916b7-9790-432e-9cef-f977933ec508",
   "metadata": {},
   "outputs": [],
   "source": [
    "TRACK_TO_ANALYZE = 0"
   ]
  },
  {
   "cell_type": "markdown",
   "id": "d489703b-16cc-4f1d-9f5e-35be10765779",
   "metadata": {},
   "source": [
    "## Song Encoding (Compression)"
   ]
  },
  {
   "cell_type": "code",
   "execution_count": 5,
   "id": "a9a94a28-bb6d-4503-bf45-1693d969a81a",
   "metadata": {},
   "outputs": [],
   "source": [
    "from guitarpro import Note, NoteType\n",
    "    \n",
    "\n",
    "\n",
    "def process_notes(beat, tuning):\n",
    "    \n",
    "    duration = (beat.duration.value, beat.duration.isDotted)\n",
    "    \n",
    "    # Tuplets are cool but rare.\n",
    "    # If a tuplet is found, simply halve its play time (by doubling its duration value) to simplify things.\n",
    "    if beat.duration.tuplet.enters != 1 or beat.duration.tuplet.times != 1:\n",
    "        duration = (duration[0] * 2, duration[1]) # Tuples aren't mutable, so just re-assign the tuple.\n",
    "    \n",
    "    if len(beat.notes) == 0:\n",
    "        return 'rest', duration[0], duration[1]\n",
    "    \n",
    "    note_types = [note.type for note in beat.notes]\n",
    "\n",
    "    \n",
    "    if all(note_type == NoteType.rest for note_type in note_types):\n",
    "        return 'rest', duration[0], duration[1]\n",
    "    \n",
    "    if all(note_type == NoteType.tie for note_type in note_types):\n",
    "        return 'tied', duration[0], duration[1]\n",
    "    \n",
    "    if all(note_type == NoteType.dead for note_type in note_types):\n",
    "        return 'dead', duration[0], duration[1]\n",
    "    \n",
    "    # note_number = MIDI note number, where A4 = 440 Hz = note 69\n",
    "    # pitches = np.array([note.value + tuning[note.string] if note.type == NoteType.normal else np.nan for note in beat.notes])\n",
    "    pitches = np.array([note.value + tuning[note.string] for note in beat.notes if note.type == NoteType.normal])\n",
    "    pitches = pitches[~np.isnan(pitches)]\n",
    "    \n",
    "    \n",
    "    # Pitches are often stored in descending order, but we want to make sure they're in ascending order.\n",
    "    # Thus, we flip the pitches before sorting, so as to help the algorithm.\n",
    "    pitches = np.sort(pitches[::-1]) \n",
    "    \n",
    "    if len(pitches) == 0:\n",
    "        return 'rest', duration[0], duration[1]\n",
    "    \n",
    "    if len(pitches) == 1:\n",
    "        return PITCH[pitches[0]], duration[0], duration[1]\n",
    "    \n",
    "    # Look at the pitch intervals in the lowest 3 notes that are being played.\n",
    "    # Usually, chords will start at the lowest 2 notes.\n",
    "    # However, sometimes players will strum the open lowest string constantly throughout the song.\n",
    "    # (see: 'Be Quiet and Drive', 'Kaiowas')\n",
    "    # Thus, the next-highest pair of notes should be considered when labeling a chord.\n",
    "    if len(pitches) == 2:\n",
    "        note_pairs = [(0, 1)]\n",
    "    if len(pitches) == 3:\n",
    "        note_pairs = [(0, 1), (0, 2), (1, 2)]\n",
    "    elif len(pitches) >= 4:\n",
    "        note_pairs = [(0, 1), (0, 2), (1, 2), (1, 3), (2, 3)]\n",
    "        \n",
    "    for idx1, idx2 in note_pairs:\n",
    "\n",
    "        interval = pitches[idx2] - pitches[idx1]\n",
    "        \n",
    "        if interval == 12 or interval == 7:\n",
    "            # Return a power chord associated with pitches[idx1]\n",
    "            return PITCH[pitches[idx1]] + '_5', duration[0], duration[1]\n",
    "\n",
    "        if interval == 6:\n",
    "            # Return a tritone chord associated with pitches[idx1]\n",
    "            return PITCH[pitches[idx1]] + '_dim5', duration[0], duration[1]\n",
    "        \n",
    "    \n",
    "    return PITCH[pitches[0]], duration[0], duration[1]"
   ]
  },
  {
   "cell_type": "code",
   "execution_count": 6,
   "id": "0f8b5a6f-41c3-4524-840f-131eb20c1b4d",
   "metadata": {},
   "outputs": [
    {
     "name": "stdout",
     "output_type": "stream",
     "text": [
      "Tuning = ['D4', 'A3', 'F3', 'C3', 'G2', 'D2', 'A1']\n"
     ]
    }
   ],
   "source": [
    "# All tabs should have the same number of measures,\n",
    "# so let's just take the number of measures in the first track\n",
    "length = len(demo.tracks[1].measures)\n",
    "\n",
    "song = np.empty(length, dtype=object)\n",
    "\n",
    "\n",
    "track = demo.tracks[TRACK_TO_ANALYZE]\n",
    "tuning = {string.number : string.value for string in track.strings}\n",
    "lowest_string = len(tuning) # Bass = 4 strings, while metal guitars = 6 - 8 strings.\n",
    "\n",
    "print(f'Tuning = {[PITCH[x] for x in tuning.values()]}')\n",
    "\n",
    "for m_i, measure in enumerate(track.measures):\n",
    "    \n",
    "    \n",
    "    '''\n",
    "    Upon inspection of some of the most popular Songsterr .gp5 tabs,\n",
    "    it turns out that each measure always has two Voices.\n",
    "    The first Voice (index 0) always contains music, while\n",
    "    the second Voice (index 1) always just contains an empty Beat with no notes.\n",
    "\n",
    "    Therefore, only the first Voice (index 0) actually matters.\n",
    "    '''\n",
    "    song[m_i] = np.empty(len(measure.voices[0].beats), dtype=object)\n",
    "    \n",
    "    #print(m_i+1)\n",
    "    for b_i, beat in enumerate(measure.voices[0].beats):\n",
    "        song[m_i][b_i] = process_notes(beat, tuning)\n",
    "        #print('\\t', song[m_i][b_i], '\\t', beat.duration)"
   ]
  },
  {
   "cell_type": "markdown",
   "id": "8fd1fe78-ab5d-4d69-9dbc-9a88d933c3c3",
   "metadata": {},
   "source": [
    "## Song Decoding (Reconstruction)"
   ]
  },
  {
   "cell_type": "code",
   "execution_count": 7,
   "id": "5a31887b-7aaf-4d56-a972-bee7859ebbb8",
   "metadata": {},
   "outputs": [],
   "source": [
    "def get_strings(chord, tuning):\n",
    "    \n",
    "    lowest_string = len(tuning) # Bass has 4 strings, while metal guitars can have 6-8 strings.\n",
    "    \n",
    "    chord_parts = chord.split('_')\n",
    "    \n",
    "    root_value = MIDI[chord_parts[0]]\n",
    "    \n",
    "    if root_value < tuning[lowest_string]:\n",
    "        # TODO: send an Exception instead of just a print()\n",
    "        print('!!!!! error !!!!!\\t', root_value, ' ', tuning[lowest_string], ' ', tuning, ' ', lowest_string)\n",
    "    \n",
    "    # Using the tuning, get a list of all possible fret positions for the root note.\n",
    "    tuning_values = np.array(list(tuning.values()))\n",
    "    fingerings = root_value - tuning_values\n",
    "    \n",
    "    \n",
    "    # + 1 because tuning[] is 1-indexed.\n",
    "    string = np.where(fingerings >= 0, fingerings, np.inf).argmin() + 1\n",
    "    fret = fingerings[string-1]\n",
    "    \n",
    "    # If we are just playing a single note, then the function can just return what it has now.\n",
    "    if len(chord_parts) == 1:\n",
    "        return [(fret, string)]\n",
    "    \n",
    "    # If the chord requires a very high pitch, lower its fingering to the second-highest string,\n",
    "    # so as to save the highest string for the other part of the chord.\n",
    "    if string == 1:\n",
    "        string = 2\n",
    "        fret = fingerings[string-1]\n",
    "    \n",
    "    if chord_parts[1] == '5':\n",
    "        upper_value = root_value + 7 # perfect fifth\n",
    "    elif chord_parts[1] == 'dim5':\n",
    "        upper_value = root_value + 6 # tritone\n",
    "    else:\n",
    "        upper_value = root_value + 5 # in case of an error, assume that the upper value is a perfect 4th above the root.\n",
    "    \n",
    "    \n",
    "    upper_fret = upper_value - tuning[string-1]\n",
    "    if upper_fret < 0:\n",
    "        # There are some rare cases where the chord cannot be played given a tuning.\n",
    "        # For example, a tritone or a perfect 4th with root C2 in a drop-C guitar.\n",
    "        # In that case, just return the root note.\n",
    "        return [(fret, string)]\n",
    "    \n",
    "    return [(fret, string), (upper_fret, string-1)]"
   ]
  },
  {
   "cell_type": "code",
   "execution_count": 8,
   "id": "78f77b0b-1ca4-47dd-b2c1-a2d53434a9ee",
   "metadata": {},
   "outputs": [
    {
     "name": "stdout",
     "output_type": "stream",
     "text": [
      "Blind reconstruction is finished\n"
     ]
    }
   ],
   "source": [
    "from guitarpro import Measure, MeasureHeader, Beat, Duration, GuitarString\n",
    "\n",
    "\n",
    "# TODO: Eventually, I may have to choose a tempo (default 120) by learning a different classifier.\n",
    "#       For now, I can assume that I have the tempo given.\n",
    "\n",
    "new_song = guitarpro.models.Song()\n",
    "\n",
    "# Set the guitar tuning for the instrument.\n",
    "\n",
    "# TODO: Eventually, I'll have to choose the tuning based on the lowest note of the generated sequence.\n",
    "#       For now, I can assume that I have the tuning given.\n",
    "new_song.tracks[0].strings = [GuitarString(number=num, value=val) for num, val in tuning.items()]\n",
    "new_song.tracks[0].strings\n",
    "\n",
    "\n",
    "# The first measureHeader and measure are already added by default.\n",
    "for i in range(1, len(song)):\n",
    "    start = guitarpro.Duration.quarterTime * (1 + i*6)\n",
    "\n",
    "    new_song.addMeasureHeader(MeasureHeader(number=i+1, start=start))\n",
    "    new_song.tracks[0].measures.append( Measure(new_song.tracks[0], new_song.measureHeaders[i]) )\n",
    "\n",
    "\n",
    "\n",
    "    \n",
    "\n",
    "for m_i, measure in enumerate(new_song.tracks[0].measures):\n",
    "    \n",
    "    # \"beats\" starts off as an empy array [].\n",
    "    voice = measure.voices[0]\n",
    "    beats = voice.beats\n",
    "    \n",
    "    #print(m_i+1)\n",
    "    # For the m_i-th measure, get the indices b_i and the beats song_beat of the compressed song.\n",
    "    for b_i, song_beat in enumerate(song[m_i]):\n",
    "        \n",
    "        # TODO: Implement chords after implementing single notes on lowest frets.\n",
    "        chord = song_beat[0]\n",
    "        duration = Duration(value=song_beat[1], isDotted=song_beat[2])\n",
    "        \n",
    "        # since \"beats\" is empty, we can append Beat objects to it.\n",
    "        beats.append(Beat(voice, duration=duration))\n",
    "        if chord == 'rest':\n",
    "            beats[b_i].status = guitarpro.BeatStatus.rest\n",
    "            \n",
    "        elif chord == 'tied':\n",
    "            if b_i == 0:\n",
    "                # Get the last Beat object from the previous Measure.\n",
    "                previous_beat = new_song.tracks[0].measures[m_i-1].voices[0].beats[-1]\n",
    "            else:\n",
    "                # Get the previous Beat object from the current Measure.\n",
    "                previous_beat = beats[b_i-1]\n",
    "                \n",
    "            for note in previous_beat.notes:\n",
    "                beats[b_i].notes.append(Note(beat=beats[b_i], value=note.value, string=note.string, type=NoteType.tie))\n",
    "                \n",
    "            \n",
    "               \n",
    "            \n",
    "        elif chord == 'dead':\n",
    "            beats[b_i].notes.append(Note(beat=beats[b_i], value=0, string=lowest_string, type=NoteType.dead))\n",
    "            beats[b_i].notes.append(Note(beat=beats[b_i], value=0, string=lowest_string-1, type=NoteType.dead))\n",
    "            beats[b_i].notes.append(Note(beat=beats[b_i], value=0, string=lowest_string-2, type=NoteType.dead))\n",
    "            \n",
    "        else:\n",
    "            for fret, string in get_strings(chord, tuning):\n",
    "                beats[b_i].notes.append(Note(beat=beats[b_i], value=fret, string=string))\n",
    "            \n",
    "        \n",
    "        #print('\\t', chord, '\\t', duration)\n",
    "            \n",
    "            \n",
    "# Lastly, save the song to a .gp5 file.\n",
    "guitarpro.write(new_song, '_new_song.gp5')\n",
    "print(demo.title + ' reconstruction is finished')"
   ]
  },
  {
   "cell_type": "markdown",
   "id": "5379bb83-cd2a-4974-9723-7f103cae7ba9",
   "metadata": {},
   "source": [
    "## Song Vectorization"
   ]
  },
  {
   "cell_type": "markdown",
   "id": "0b092ac0-afa4-4a7d-9ec1-f626e4eadb6a",
   "metadata": {},
   "source": [
    "#### get_notes()"
   ]
  },
  {
   "cell_type": "code",
   "execution_count": 9,
   "id": "f0a8c497-05d6-4f22-84ec-e18e60d1ad78",
   "metadata": {},
   "outputs": [
    {
     "name": "stdout",
     "output_type": "stream",
     "text": [
      "Number of notes:\t 958\n",
      "Number of unique notes:\t 37\n"
     ]
    }
   ],
   "source": [
    "# Store all notes from all songs as a one-dimensional vector of tuples.\n",
    "\n",
    "# This was originally in get_notes(), which returned the 'notes' object.\n",
    "\n",
    "notes = np.zeros(np.sum([len(measure) for measure in song]), dtype=object)\n",
    "\n",
    "note_idx = 0\n",
    "for m_idx, measure in enumerate(song):\n",
    "    for b_idx, beat in enumerate(measure):\n",
    "        notes[note_idx] = beat\n",
    "        note_idx += 1\n",
    "        \n",
    "with open('data/notes', 'wb') as filepath:\n",
    "    pickle.dump(notes, filepath)\n",
    "        \n",
    "print(f'Number of notes:\\t {len(notes)}')\n",
    "print(f'Number of unique notes:\\t {len(set(notes))}')"
   ]
  },
  {
   "cell_type": "markdown",
   "id": "7c14a358-afc6-4f0a-a60f-81996a25e3d2",
   "metadata": {},
   "source": [
    "#### prepare_sequences(notes, n_vocab)"
   ]
  },
  {
   "cell_type": "code",
   "execution_count": 33,
   "id": "85e05643-a864-465a-95eb-4cef1ebd549c",
   "metadata": {},
   "outputs": [
    {
     "name": "stdout",
     "output_type": "stream",
     "text": [
      "Input and output processed.\n"
     ]
    }
   ],
   "source": [
    "# The function originally returned (network_input, network_output).\n",
    "\n",
    "n_vocab = len(set(notes))\n",
    "# ^ originally a parameter of the function\n",
    "\n",
    "\n",
    "# def prepare_sequences(notes, n_vocab):\n",
    "\n",
    "# Create a dictionary to map notes to integers\n",
    "note_to_int = dict((note, number) for number, note in enumerate(set(notes)))\n",
    "int_to_note = {v: k for k, v in note_to_int.items()} # Invert the map\n",
    "\n",
    "network_input = []\n",
    "network_output = []\n",
    "\n",
    "# create input sequences and the corresponding outputs\n",
    "for i in range(0, len(notes) - SEQUENCE_LENGTH, 1):\n",
    "    sequence_in = notes[i: i + SEQUENCE_LENGTH]\n",
    "    sequence_out = notes[i + SEQUENCE_LENGTH]\n",
    "    network_input.append([note_to_int[char] for char in sequence_in])\n",
    "    network_output.append(note_to_int[sequence_out])\n",
    "\n",
    "n_patterns = len(network_input)\n",
    "\n",
    "# reshape the input into a format comatible with LSTM layers \n",
    "network_input = np.reshape(network_input, (n_patterns, SEQUENCE_LENGTH, 1))\n",
    "\n",
    "# normalize input\n",
    "network_input = network_input / float(n_vocab)\n",
    "\n",
    "# one hot encode the output vectors\n",
    "network_output = np_utils.to_categorical(network_output)\n",
    "\n",
    "print('Input and output processed.')"
   ]
  },
  {
   "cell_type": "code",
   "execution_count": 38,
   "id": "e8f73556-54b9-4b24-b1f2-a91a7728ed46",
   "metadata": {},
   "outputs": [
    {
     "data": {
      "text/plain": [
       "[<matplotlib.lines.Line2D at 0x22861e6c3a0>]"
      ]
     },
     "execution_count": 38,
     "metadata": {},
     "output_type": "execute_result"
    },
    {
     "data": {
      "image/png": "[encoded data removed]",
      "text/plain": [
       "<Figure size 432x288 with 1 Axes>"
      ]
     },
     "metadata": {
      "image/png": {
       "height": 248,
       "width": 380
      },
      "needs_background": "light"
     },
     "output_type": "display_data"
    }
   ],
   "source": [
    "plt.plot([note_to_int[x] for x in notes])"
   ]
  },
  {
   "cell_type": "code",
   "execution_count": 11,
   "id": "522b0779-93db-421c-bd6d-1c141043de0b",
   "metadata": {
    "id": "522b0779-93db-421c-bd6d-1c141043de0b"
   },
   "outputs": [],
   "source": [
    "def create_network(network_in, n_vocab): \n",
    "    \"\"\"Create the model architecture\"\"\"\n",
    "    model = Sequential()\n",
    "    model.add(LSTM(128, input_shape=network_in.shape[1:], return_sequences=True))\n",
    "    model.add(Dropout(0.2))\n",
    "    model.add(LSTM(128, return_sequences=True))\n",
    "    model.add(Flatten())\n",
    "    model.add(Dense(256))\n",
    "    model.add(Dropout(0.3))\n",
    "    model.add(Dense(n_vocab))\n",
    "    model.add(Activation('softmax'))\n",
    "    model.compile(loss='categorical_crossentropy', optimizer='adam')\n",
    "\n",
    "    return model"
   ]
  },
  {
   "cell_type": "code",
   "execution_count": 12,
   "id": "d0e0f888-5766-4818-9d6b-b668f7ef9001",
   "metadata": {
    "id": "d0e0f888-5766-4818-9d6b-b668f7ef9001"
   },
   "outputs": [],
   "source": [
    "def train(model, network_input, network_output, epochs): \n",
    "    \"\"\"\n",
    "    Train the neural network\n",
    "    \"\"\"\n",
    "    # Create checkpoint to save the best model weights.\n",
    "    filepath = 'weights.best.music3.hdf5'\n",
    "    checkpoint = ModelCheckpoint(filepath, monitor='loss', verbose=0, save_best_only=True)\n",
    "    \n",
    "    model.fit(network_input, network_output, epochs=epochs, batch_size=32, callbacks=[checkpoint])"
   ]
  },
  {
   "cell_type": "code",
   "execution_count": 13,
   "id": "716377ca-fc95-494b-9e84-b1805862fcb5",
   "metadata": {
    "colab": {
     "base_uri": "https://localhost:8080/"
    },
    "id": "716377ca-fc95-494b-9e84-b1805862fcb5",
    "outputId": "a0df450f-0a33-4d9d-bf34-0f67b14bc836"
   },
   "outputs": [
    {
     "name": "stdout",
     "output_type": "stream",
     "text": [
      "Vocab generated = 37 notes.\n"
     ]
    }
   ],
   "source": [
    "n_vocab = len(set(notes))\n",
    "print(f'Vocab generated = {n_vocab} notes.')\n",
    "\n",
    "#network_in, network_out = prepare_sequences(notes, n_vocab)\n",
    "#print('Input and Output processed')"
   ]
  },
  {
   "cell_type": "code",
   "execution_count": null,
   "id": "8bbbdb6b-58a8-472e-be62-058f4264fc69",
   "metadata": {
    "colab": {
     "base_uri": "https://localhost:8080/"
    },
    "id": "8bbbdb6b-58a8-472e-be62-058f4264fc69",
    "outputId": "a5df9aeb-2511-4b8d-c347-3ab4bf2cb72e"
   },
   "outputs": [],
   "source": [
    "#epochs = 200 # 200 caused runtime disconnection\n",
    "epochs = 150\n",
    "\n",
    "model = create_network(network_input, n_vocab)\n",
    "print('Model created')\n",
    "\n",
    "#return model\n",
    "\n",
    "print('Training in progress')\n",
    "train(model, network_input, network_output, epochs)\n",
    "print('Training completed')"
   ]
  },
  {
   "cell_type": "markdown",
   "id": "550933bc-acc0-411c-b55f-72167454d41a",
   "metadata": {},
   "source": [
    "## Note generation"
   ]
  },
  {
   "cell_type": "code",
   "execution_count": 16,
   "id": "c233514a-acb8-46b5-b7e4-bafb34604d2b",
   "metadata": {
    "id": "c233514a-acb8-46b5-b7e4-bafb34604d2b",
    "tags": []
   },
   "outputs": [],
   "source": [
    "def get_inputSequences(notes, note_to_int, n_vocab):\n",
    "    \"\"\" Prepare the sequences used by the Neural Network \"\"\"\n",
    "\n",
    "    generation_input = []\n",
    "    for i in range(0, len(notes) - SEQUENCE_LENGTH, 1):\n",
    "        sequence_in = notes[i:i + SEQUENCE_LENGTH]\n",
    "        generation_input.append([note_to_int[char] for char in sequence_in])\n",
    "    \n",
    "    generation_input = np.reshape(generation_input, (len(generation_input), SEQUENCE_LENGTH, 1))\n",
    "    \n",
    "    return (generation_input)"
   ]
  },
  {
   "cell_type": "code",
   "execution_count": 17,
   "id": "f5455858-e7c3-4df0-9691-8f182749e2ff",
   "metadata": {
    "id": "f5455858-e7c3-4df0-9691-8f182749e2ff"
   },
   "outputs": [],
   "source": [
    "def generate_notes(model, network_input, note_to_int, n_vocab):\n",
    "    \"\"\" Generate notes from the neural network based on a sequence of notes \"\"\"\n",
    "    # Pick a random integer\n",
    "    start = np.random.randint(0, len(network_input)-1)\n",
    "\n",
    "    # Invert the note_to_int dictionary to get the int_to_note dictionary.\n",
    "    int_to_note = inv_map = {v: k for k, v in note_to_int.items()}\n",
    "    \n",
    "    # pick a random sequence from the input as a starting point for the prediction\n",
    "    pattern = list(network_input[start])\n",
    "    prediction_output = []\n",
    "    \n",
    "    print('Generating notes........')\n",
    "\n",
    "    # generate 500 notes\n",
    "    for note_index in range(500):\n",
    "        prediction_input = np.reshape(pattern, (1, len(pattern), 1))\n",
    "        prediction_input = prediction_input / float(n_vocab)\n",
    "\n",
    "        prediction = model.predict(prediction_input, verbose=0)\n",
    "\n",
    "        # Predicted output is the argmax(P(h|D))\n",
    "        index = np.argmax(prediction)\n",
    "        # Mapping the predicted interger back to the corresponding note\n",
    "        result = int_to_note[index]\n",
    "        # Storing the predicted output\n",
    "        prediction_output.append(result)\n",
    "\n",
    "        pattern.append(np.array([index])) # Fixed this code to make sure the new element matched the datatype of the existing elements.\n",
    "        # Next input to the model\n",
    "        pattern = pattern[1:len(pattern)]\n",
    "\n",
    "    print('Notes Generated.')\n",
    "    return prediction_output"
   ]
  },
  {
   "cell_type": "code",
   "execution_count": 18,
   "id": "7c2712cc-ed8a-42a9-b85f-c3a0af98173c",
   "metadata": {
    "id": "7c2712cc-ed8a-42a9-b85f-c3a0af98173c"
   },
   "outputs": [
    {
     "name": "stdout",
     "output_type": "stream",
     "text": [
      "Initiating music generation process.......\n",
      "Loading Model weights.....\n",
      "Model Loaded\n",
      "Generating notes........\n",
      "Notes Generated.\n"
     ]
    }
   ],
   "source": [
    "\"\"\" Generate a .gp5 tab file \"\"\"\n",
    "\n",
    "'''\n",
    "#load the notes used to train the model\n",
    "with open('data/notes', 'rb') as filepath:\n",
    "    notes = pickle.load(filepath)\n",
    "\n",
    "# Get all pitch names\n",
    "pitchnames = sorted(set(item for item in notes))\n",
    "# Get all pitch names\n",
    "n_vocab = len(set(notes))\n",
    "'''\n",
    "\n",
    "print('Initiating music generation process.......')\n",
    "\n",
    "#network_input = get_inputSequences(notes, pitchnames, n_vocab)\n",
    "generation_input = get_inputSequences(notes, note_to_int, n_vocab)\n",
    "\n",
    "normalized_input = generation_input / float(n_vocab)\n",
    "model = create_network(normalized_input, n_vocab)\n",
    "print('Loading Model weights.....')\n",
    "model.load_weights('weights.best.music3.hdf5')\n",
    "print('Model Loaded')\n",
    "prediction_output = generate_notes(model, generation_input, note_to_int, n_vocab)"
   ]
  },
  {
   "cell_type": "code",
   "execution_count": 19,
   "id": "95d82bef-a03e-425d-8ed8-7157da09684a",
   "metadata": {},
   "outputs": [],
   "source": [
    "def thirty_seconds_to_duration(count):\n",
    "    if count % 3 == 0:\n",
    "        # If the note is dotted, do 32 / (i * 2/3), and return isDotted = True.\n",
    "        return (48//count, True)\n",
    "    else:\n",
    "        # If the note is not dotted, to 32 / i, and return isDotted = False.\n",
    "        return (32//count, False)\n",
    "\n",
    "def quantize_thirty_seconds(value):\n",
    "\n",
    "    # 32nd-note values of each fundamental type of note (not including 64th-notes, of course).\n",
    "    vals = np.array([32, # whole\n",
    "                     24, # dotted half\n",
    "                     16, # half\n",
    "                     12, # dotted quarter\n",
    "                     8,  # quarter\n",
    "                     6,  # dotted eigth\n",
    "                     4,  # eigth\n",
    "                     3,  # dotted sixteenth\n",
    "                     2,  # sixteenth\n",
    "                     1]) # thirty-second\n",
    "    \n",
    "    list_out = []\n",
    "\n",
    "    for v in vals:\n",
    "        if v <= value:\n",
    "            list_out.append(thirty_seconds_to_duration(v))\n",
    "            value -= v\n",
    "            \n",
    "    return np.array(list_out)"
   ]
  },
  {
   "cell_type": "markdown",
   "id": "47b0df14-b53d-4fa7-973c-93dbda241935",
   "metadata": {},
   "source": [
    "#### Adjust prediction output to 4/4 time"
   ]
  },
  {
   "cell_type": "code",
   "execution_count": 20,
   "id": "98401a27-4c2b-4d63-a52e-e951b6a63513",
   "metadata": {},
   "outputs": [],
   "source": [
    "# This will be the prediction output\n",
    "new_prediction_output = []\n",
    "\n",
    "\n",
    "time = 0\n",
    "for beat in prediction_output:\n",
    "    \n",
    "    # Calculate the fraction of a measure encompassed by the current beat / chord.\n",
    "    beat_time = (1 / beat[1]) * (1 + 0.5 * beat[2])\n",
    "    \n",
    "    # Calculate the fraction of a measure taken up by all notes in the measure.\n",
    "    # Calculate any residual time to see if this measure (in 4/4 time) is longer than 1 measure.\n",
    "    measure_time = time + beat_time\n",
    "    leftover_time = (measure_time) % 1\n",
    "    \n",
    "    # If the measure count (i.e., the measure integer) has changed and there is significant left-over beat time:\n",
    "    if (int(measure_time) > int(time)) and (leftover_time > 1/128):\n",
    "        \n",
    "        # Calculate the initial 32nd notes encompassed by this beat in the current measure.\n",
    "        this_measure_thirty_seconds = int(32 * (1 - time % 1))\n",
    "        # Calculate the remaining 32nd notes encompassed by this beat in the next measure.\n",
    "        next_measure_thirty_seconds = int(32 * leftover_time)\n",
    "        \n",
    "        # Get the Duration object parameters for this measure and the next measure.\n",
    "        this_measure_durations = quantize_thirty_seconds(this_measure_thirty_seconds)\n",
    "        next_measure_durations = quantize_thirty_seconds(next_measure_thirty_seconds)\n",
    "        \n",
    "        \n",
    "        #print(f'{{ {32 / beat[1]}')\n",
    "        for duration_idx, duration in enumerate(this_measure_durations):\n",
    "            time += (1 / duration[0]) * (1 + 0.5 * duration[1])\n",
    "            \n",
    "            #print(time, '\\t', time * 32)\n",
    "                \n",
    "            chord = beat[0] if duration_idx == 0 else 'tied'\n",
    "            \n",
    "            new_prediction_output.append((chord, duration[0], duration[1]))\n",
    "            \n",
    "            \n",
    "        for duration in next_measure_durations:\n",
    "            time += (1 / duration[0]) * (1 + 0.5 * duration[1])\n",
    "            \n",
    "            #print(time, '\\t', time * 32)\n",
    "            \n",
    "            new_prediction_output.append(('tied', duration[0], duration[1]))\n",
    "            \n",
    "               \n",
    "        continue\n",
    "    \n",
    "    \n",
    "    time += beat_time\n",
    "    new_prediction_output.append((beat[0], beat[1], beat[2]))\n",
    "    \n",
    "    #print(time, '\\t', time * 32)\n",
    "\n",
    "\n",
    "'''\n",
    "time = 0\n",
    "time2 = 0\n",
    "idx = 0\n",
    "\n",
    "for idx2, beat2 in enumerate(new_prediction_output[:100]):\n",
    "    beat = prediction_output[idx]\n",
    "    \n",
    "    if time == time2:\n",
    "        print(beat[0], '\\t', time, '\\t\\t', beat2[0], '\\t', time2)\n",
    "        \n",
    "        idx += 1\n",
    "        \n",
    "        time += (1 / beat[1]) * (1 + 0.5 * beat[2])\n",
    "    \n",
    "    else:\n",
    "        print('\\t\\t\\t\\t', beat2[0], '\\t', time2)\n",
    "\n",
    "    \n",
    "    \n",
    "    time2 += (1 / beat2[1]) * (1 + 0.5 * beat2[2])\n",
    "''';"
   ]
  },
  {
   "cell_type": "markdown",
   "id": "b955cbf7-1211-43fc-bd10-cc3870225a08",
   "metadata": {},
   "source": [
    "#### Separate prediction output notes into measures"
   ]
  },
  {
   "cell_type": "code",
   "execution_count": 21,
   "id": "76ea5a18-5297-424a-bf04-5f04d2ee51d3",
   "metadata": {},
   "outputs": [
    {
     "name": "stdout",
     "output_type": "stream",
     "text": [
      "4/4 adjusted correctly: True\n"
     ]
    }
   ],
   "source": [
    "# Use the previously calculated cumulative time as the number of measures in the new 4/4 song.\n",
    "num_measures = int(np.ceil(time))\n",
    "\n",
    "song = np.empty(num_measures, dtype=object)\n",
    "\n",
    "time = 0\n",
    "m_idx = 0\n",
    "\n",
    "timestamps = []\n",
    "\n",
    "for beat in new_prediction_output:\n",
    "    #print(time)\n",
    "    timestamps.append(time)\n",
    "    \n",
    "    m_idx = int(time)\n",
    "    \n",
    "    if song[m_idx] is None:\n",
    "        \n",
    "        song[m_idx] = [beat]\n",
    "    else:\n",
    "        song[m_idx].append(beat)\n",
    "    \n",
    "    \n",
    "    time += (1 / beat[1]) * (1 + 0.5 * beat[2])\n",
    "    \n",
    "    \n",
    "print(f'4/4 adjusted correctly: {set(range(num_measures)).issubset(set(timestamps))}')"
   ]
  },
  {
   "cell_type": "markdown",
   "id": "e10a1aea-da4f-42ab-8811-0eb1d97abc3a",
   "metadata": {},
   "source": [
    "#### Figure out the necessary guitar tuning for the produced song"
   ]
  },
  {
   "cell_type": "code",
   "execution_count": 31,
   "id": "66bd666b-99f6-413e-9ec8-3ceb488d6719",
   "metadata": {},
   "outputs": [
    {
     "data": {
      "text/plain": [
       "{1: 64, 2: 59, 3: 55, 4: 50, 5: 45, 6: 40, 7: 35}"
      ]
     },
     "execution_count": 31,
     "metadata": {},
     "output_type": "execute_result"
    }
   ],
   "source": [
    "# Get the tuning (i.e., the lowest note) of the song:\n",
    "\n",
    "pitchnames = set([x[0] for x in prediction_output])\n",
    "pitchnames.discard('rest')\n",
    "pitchnames.discard('tied')\n",
    "pitchnames.discard('dead')\n",
    "\n",
    "\n",
    "standard_tuning = {1: MIDI['E4'],\n",
    "                   2: MIDI['B3'],\n",
    "                   3: MIDI['G3'],\n",
    "                   4: MIDI['D3'],\n",
    "                   5: MIDI['A2'],\n",
    "                   6: MIDI['E2']}\n",
    "\n",
    "# Get the lowest note in the output.\n",
    "# The highest tuning allowed will be standard tuning.\n",
    "lowest_note = min([MIDI[x.split('_')[0]] for x in pitchnames])\n",
    "lowest_note = min(lowest_note, MIDI['E2'])\n",
    "\n",
    "if lowest_note <= MIDI['B1']:\n",
    "    # 7-string guitar case\n",
    "    tuning[7] = MIDI['B1']\n",
    "    drop = MIDI['B1'] - lowest_note\n",
    "else:\n",
    "    # drop the tuning by however much is necessary.\n",
    "    drop = MIDI['E2'] - lowest_note\n",
    "    \n",
    "tuning = {k: v - drop for k, v in tuning.items()}\n",
    "tuning"
   ]
  },
  {
   "cell_type": "markdown",
   "id": "14ba1bc1-305b-4168-8b0b-db5ba975162b",
   "metadata": {},
   "source": [
    "#### Store the song as a tab"
   ]
  },
  {
   "cell_type": "code",
   "execution_count": 32,
   "id": "b65d89e5-5399-41fd-b341-76b08aef90d6",
   "metadata": {},
   "outputs": [
    {
     "name": "stdout",
     "output_type": "stream",
     "text": [
      "Generation is finished\n"
     ]
    }
   ],
   "source": [
    "from guitarpro import Measure, MeasureHeader, Beat, Duration, GuitarString\n",
    "\n",
    "PRINT = False\n",
    "\n",
    "# TODO: Eventually, I may have to choose a tempo (default 120) by learning a different classifier.\n",
    "#       For now, I can assume that I have the tempo given.\n",
    "\n",
    "generation = guitarpro.models.Song()\n",
    "\n",
    "# Set the guitar tuning for the instrument.\n",
    "\n",
    "# TODO: Eventually, I'll have to choose the tuning based on the lowest note of the generated sequence.\n",
    "#       For now, I can assume that I have the tuning given.\n",
    "generation.tracks[0].strings = [GuitarString(number=num, value=val) for num, val in tuning.items()]\n",
    "generation.tracks[0].strings\n",
    "\n",
    "\n",
    "# The first measureHeader and measure are already added by default.\n",
    "for i in range(1, len(song)):\n",
    "    start = guitarpro.Duration.quarterTime * (1 + i*6)\n",
    "\n",
    "    generation.addMeasureHeader(MeasureHeader(number=i+1, start=start))\n",
    "    generation.tracks[0].measures.append( Measure(generation.tracks[0], generation.measureHeaders[i]) )\n",
    "\n",
    "\n",
    "\n",
    "    \n",
    "\n",
    "for m_i, measure in enumerate(generation.tracks[0].measures):\n",
    "    \n",
    "    # \"beats\" starts off as an empy array [].\n",
    "    voice = measure.voices[0]\n",
    "    beats = voice.beats\n",
    "    \n",
    "    if PRINT:\n",
    "        print(m_i+1)\n",
    "    # For the m_i-th measure, get the indices b_i and the beats song_beat of the compressed song.\n",
    "    for b_i, song_beat in enumerate(song[m_i]):\n",
    "        \n",
    "        # TODO: Implement chords after implementing single notes on lowest frets.\n",
    "        chord = song_beat[0]\n",
    "        val = np.int32(song_beat[1])\n",
    "        val = val.item()\n",
    "        #duration = Duration(value=val, isDotted=bool(song_beat[2]))\n",
    "        duration = Duration(value=8)\n",
    "        # since \"beats\" is empty, we can append Beat objects to it.\n",
    "        beats.append(Beat(voice, duration=duration))\n",
    "        if chord == 'rest':\n",
    "            beats[b_i].status = guitarpro.BeatStatus.rest\n",
    "            \n",
    "        elif chord == 'tied':\n",
    "            if b_i == 0:\n",
    "                # Get the last Beat object from the previous Measure.\n",
    "                previous_beat = generation.tracks[0].measures[m_i-1].voices[0].beats[-1]\n",
    "            else:\n",
    "                # Get the previous Beat object from the current Measure.\n",
    "                previous_beat = beats[b_i-1]\n",
    "                \n",
    "            for note in previous_beat.notes:\n",
    "                beats[b_i].notes.append(Note(beat=beats[b_i], value=note.value, string=note.string, type=NoteType.tie))\n",
    "                \n",
    "            \n",
    "               \n",
    "            \n",
    "        elif chord == 'dead':\n",
    "            beats[b_i].notes.append(Note(beat=beats[b_i], value=0, string=lowest_string, type=NoteType.dead))\n",
    "            beats[b_i].notes.append(Note(beat=beats[b_i], value=0, string=lowest_string-1, type=NoteType.dead))\n",
    "            beats[b_i].notes.append(Note(beat=beats[b_i], value=0, string=lowest_string-2, type=NoteType.dead))\n",
    "            \n",
    "        else:\n",
    "            for fret, string in get_strings(chord, tuning):\n",
    "                beats[b_i].notes.append(Note(beat=beats[b_i], value=fret, string=string))\n",
    "            \n",
    "        if PRINT:\n",
    "            print('\\t', chord, '\\t', duration)\n",
    "            \n",
    "            \n",
    "# Lastly, save the song to a .gp5 file.\n",
    "guitarpro.write(generation, '_generation.gp5')\n",
    "print('Generation is finished')\n",
    "\n",
    "'''\n",
    "TODO: Preliminary data exploration before training:\n",
    "- frequency of (chord, duration) pairs in dataset\n",
    "- frequency of (chord, duration) pairs in generated output\n",
    "- exclusively korn songs in low registers\n",
    "- Less 'chuggy' songs\n",
    "- Clean up this code!!\n",
    "''';"
   ]
  }
 ],
 "metadata": {
  "colab": {
   "collapsed_sections": [],
   "name": "Metal Music Sampling.ipynb",
   "provenance": []
  },
  "kernelspec": {
   "display_name": "Python 3",
   "language": "python",
   "name": "python3"
  },
  "language_info": {
   "codemirror_mode": {
    "name": "ipython",
    "version": 3
   },
   "file_extension": ".py",
   "mimetype": "text/x-python",
   "name": "python",
   "nbconvert_exporter": "python",
   "pygments_lexer": "ipython3",
   "version": "3.8.8"
  }
 },
 "nbformat": 4,
 "nbformat_minor": 5
}
