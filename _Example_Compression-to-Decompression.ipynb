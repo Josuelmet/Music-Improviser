{
 "cells": [
  {
   "cell_type": "markdown",
   "id": "3f604194-d9e5-45a8-b5ca-73bf61667a7f",
   "metadata": {
    "id": "e1387f93-eb54-4b6d-9dad-2db5d4c4c8d6"
   },
   "source": [
    "# Example of Compressing and Decompressing a Song\n",
    "\n",
    "References: \n",
    "\n",
    "https://pyguitarpro.readthedocs.io/en/stable/index.html"
   ]
  },
  {
   "cell_type": "markdown",
   "id": "9ab13592-a4c9-41f7-90cc-56508394657b",
   "metadata": {
    "id": "55d3a53d-b08f-4edc-a37c-faa5a41051aa"
   },
   "source": [
    "## Imports"
   ]
  },
  {
   "cell_type": "code",
   "execution_count": 2,
   "id": "83c521d8-3ad9-4319-a1c4-531bb5f6b2f9",
   "metadata": {
    "id": "b4e83e4a-1a78-4c3e-8e94-d1e1a13637ef"
   },
   "outputs": [],
   "source": [
    "import guitarpro\n",
    "from guitarpro import *\n",
    "from matplotlib import pyplot as plt\n",
    "import numpy as np\n",
    "import os\n",
    "import pickle\n",
    "\n",
    "from _Compressor import compress_track\n",
    "from _Decompressor import decompress_track"
   ]
  },
  {
   "cell_type": "markdown",
   "id": "7a3a8465-6c7d-4918-8a64-8b1840a3648d",
   "metadata": {},
   "source": [
    "## Choose a Song (Make sure to convert to 4/4 before running)"
   ]
  },
  {
   "cell_type": "code",
   "execution_count": 3,
   "id": "546de2ab-81d2-43ff-9f25-fb503d0d2659",
   "metadata": {},
   "outputs": [
    {
     "name": "stdout",
     "output_type": "stream",
     "text": [
      "0 \t James Hetfield (Vocals) 67\n",
      "1 \t James Hetfield 30\n",
      "2 \t Kirk Hammett 30\n",
      "3 \t Backing trail notes 30\n",
      "4 \t James/Kirk 27\n",
      "5 \t Cliff Burton 33\n",
      "6 \t Lars Ulrich 0\n",
      "7 \t Volume Swell Guitar 30\n",
      "8 \t Extras 30\n",
      "9 \t Interlude Swell 44\n",
      "10 \t Cliff Burton (Backing Vocals) 66\n"
     ]
    }
   ],
   "source": [
    "#demo = guitarpro.parse('deftones-be_quiet_and_drive.gp5')\n",
    "\n",
    "#demo = guitarpro.parse('dream-theater-pull_me_under.gp5')\n",
    "\n",
    "#demo = guitarpro.parse('korn-blind.gp5')\n",
    "#demo = guitarpro.parse('korn-chi.gp5')\n",
    "#demo = guitarpro.parse('korn-falling_away_from_me.gp5')\n",
    "#demo = guitarpro.parse('korn-freak_on_a_leash.gp5')\n",
    "#demo = guitarpro.parse('korn-twist.gp5')\n",
    "\n",
    "#demo = guitarpro.parse('mayhem-chainsaw_gutsfuck.gp4') # 5/4 time\n",
    "#demo = guitarpro.parse('mayhem-deathcrush.gp4') # 5/4 time\n",
    "\n",
    "#demo = guitarpro.parse('megadeth-wake_up_dead.gp5')\n",
    "\n",
    "#demo = guitarpro.parse('metallica-enter_sandman.gp5')\n",
    "demo = guitarpro.parse('metallica-master_of_puppets.gp5')\n",
    "#demo = guitarpro.parse('metallica-anesthesia.gp5')\n",
    "\n",
    "#demo = guitarpro.parse('pantera-this_love.gp5')\n",
    "\n",
    "#demo = guitarpro.parse('ratm-killing_in_the_name.gp5')\n",
    "\n",
    "#demo = guitarpro.parse('sepultura-kaiowas.gp5') # 12/8 time\n",
    "#demo = guitarpro.parse('sepultura-arise.gp5')\n",
    "\n",
    "#demo = guitarpro.parse('slayer-raining_blood.gp5')\n",
    "#demo = guitarpro.parse('slayer-seasons_in_the_abyss.gp5')\n",
    "#demo = guitarpro.parse('slayer-south_of_heaven.gp5')\n",
    "\n",
    "#demo = guitarpro.parse('slipknot-diluted.gp4')\n",
    "#demo = guitarpro.parse('slipknot-people_=_shit.gp5')\n",
    "\n",
    "#demo = guitarpro.parse('tool-schism.gp5')\n",
    "\n",
    "\n",
    "for idx, track in enumerate(demo.tracks):\n",
    "    print(idx, '\\t', track.name, track.channel.instrument)"
   ]
  },
  {
   "cell_type": "markdown",
   "id": "22ddc231-276e-48f2-9b06-098c07946405",
   "metadata": {},
   "source": [
    "## Choose a Track (see indices on the left)"
   ]
  },
  {
   "cell_type": "code",
   "execution_count": 41,
   "id": "ec1b872f-9232-40cc-9354-574e9d3b4c47",
   "metadata": {},
   "outputs": [
    {
     "name": "stdout",
     "output_type": "stream",
     "text": [
      "Track chosen:\n",
      "Electric Bass 30\n"
     ]
    }
   ],
   "source": [
    "TRACK_TO_ANALYZE = 0\n",
    "\n",
    "\n",
    "tempo = demo.tempo\n",
    "track = demo.tracks[TRACK_TO_ANALYZE]\n",
    "tuning = {string.number : string.value for string in track.strings}\n",
    "\n",
    "print('Track chosen:')\n",
    "print(track.name, track.channel.instrument)"
   ]
  },
  {
   "cell_type": "markdown",
   "id": "5da5fe44-f6ed-4567-b501-10a40f28688d",
   "metadata": {},
   "source": [
    "## Song Compression"
   ]
  },
  {
   "cell_type": "code",
   "execution_count": 42,
   "id": "45ac4a66-18a6-40cf-8a84-a2cf1be1db63",
   "metadata": {},
   "outputs": [
    {
     "name": "stdout",
     "output_type": "stream",
     "text": [
      "Track contains 162 measures.\n"
     ]
    }
   ],
   "source": [
    "compressed_track = compress_track(track)\n",
    "print(f'Track contains {len(compressed_track)} measures.')"
   ]
  },
  {
   "cell_type": "markdown",
   "id": "47cd855b-d3a2-4a5b-b926-4f54ba1889a9",
   "metadata": {},
   "source": [
    "## Song Decompression"
   ]
  },
  {
   "cell_type": "code",
   "execution_count": 43,
   "id": "c0c1f5fc-c30f-4448-825c-5a01974a0f47",
   "metadata": {},
   "outputs": [
    {
     "name": "stdout",
     "output_type": "stream",
     "text": [
      "Finished\n"
     ]
    }
   ],
   "source": [
    "# Lastly, save the song to a .gp5 file.\n",
    "new_song = decompress_track(compressed_track, tuning)\n",
    "new_song.tempo = tempo\n",
    "\n",
    "guitarpro.write(new_song, '_new_song.gp5')\n",
    "print('Finished')"
   ]
  }
 ],
 "metadata": {
  "kernelspec": {
   "display_name": "Python 3",
   "language": "python",
   "name": "python3"
  },
  "language_info": {
   "codemirror_mode": {
    "name": "ipython",
    "version": 3
   },
   "file_extension": ".py",
   "mimetype": "text/x-python",
   "name": "python",
   "nbconvert_exporter": "python",
   "pygments_lexer": "ipython3",
   "version": "3.8.8"
  }
 },
 "nbformat": 4,
 "nbformat_minor": 5
}
