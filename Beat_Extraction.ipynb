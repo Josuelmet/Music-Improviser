{
 "cells": [
  {
   "cell_type": "markdown",
   "id": "e1387f93-eb54-4b6d-9dad-2db5d4c4c8d6",
   "metadata": {
    "id": "e1387f93-eb54-4b6d-9dad-2db5d4c4c8d6"
   },
   "source": [
    "# Step 1: Compression and Vectorization of Songs\n",
    "\n",
    "References: \n",
    "\n",
    "https://github.com/shubham3121/music-generation-using-rnn \n",
    "\n",
    "https://www.hackerearth.com/blog/developers/jazz-music-using-deep-learning/\n",
    "\n",
    "https://pyguitarpro.readthedocs.io/en/stable/index.html"
   ]
  },
  {
   "cell_type": "markdown",
   "id": "ad10df5b-4fd9-4d25-9bb4-577d91d4631d",
   "metadata": {
    "id": "55d3a53d-b08f-4edc-a37c-faa5a41051aa"
   },
   "source": [
    "## Imports"
   ]
  },
  {
   "cell_type": "code",
   "execution_count": 1,
   "id": "87a0d6de-23af-4d2b-a938-e38414a4f9dc",
   "metadata": {
    "id": "b4e83e4a-1a78-4c3e-8e94-d1e1a13637ef"
   },
   "outputs": [],
   "source": [
    "from glob import glob\n",
    "import guitarpro\n",
    "from guitarpro import *\n",
    "from matplotlib import pyplot as plt\n",
    "import numpy as np\n",
    "import os\n",
    "import pickle\n",
    "from tqdm import tqdm\n",
    "\n",
    "from keras.utils import np_utils\n",
    "\n",
    "from _Compressor import compress_track"
   ]
  },
  {
   "cell_type": "markdown",
   "id": "92cfe3a3-8ed5-45f7-9772-ae6dde06f7d6",
   "metadata": {},
   "source": [
    "## Choose Songs (Make sure to convert to 4/4 before running)"
   ]
  },
  {
   "cell_type": "code",
   "execution_count": 2,
   "id": "7d95c988-10fa-4456-bf15-8349a3a650bd",
   "metadata": {},
   "outputs": [],
   "source": [
    "# Choose all songs\n",
    "# songs = glob('*.gp*')\n",
    "\n",
    "# Choose a certain cohort of songs\n",
    "\n",
    "'''\n",
    "filenames = glob('pantera-*.gp*') + \\\n",
    "            glob('dream_theater-*.gp*')\n",
    "'''\n",
    "#filenames = ['korn-freak_on_a_leash.gp5']\n",
    "#filenames = ['metallica-master_of_puppets.gp5']\n",
    "#filenames = ['korn-blind.gp5']\n",
    "#filenames = ['korn-falling_away_from_me.gp5']\n",
    "\n",
    "#filenames = glob('metallica-*.gp*')\n",
    "\n",
    "#filenames = glob('pantera-*.gp*')\n",
    "filenames = [file for file in glob('*.gp*') if file[0] != '_']\n",
    "#filenames"
   ]
  },
  {
   "cell_type": "code",
   "execution_count": 3,
   "id": "8269b720-8787-4587-9524-8fe6a4f8649f",
   "metadata": {},
   "outputs": [
    {
     "name": "stderr",
     "output_type": "stream",
     "text": [
      "100%|██████████| 73/73 [01:15<00:00,  1.03s/it]"
     ]
    },
    {
     "name": "stdout",
     "output_type": "stream",
     "text": [
      "Number of songs: 73\n"
     ]
    },
    {
     "name": "stderr",
     "output_type": "stream",
     "text": [
      "\n"
     ]
    }
   ],
   "source": [
    "track_collections = []\n",
    "\n",
    "# Debugging variables\n",
    "track_names = []\n",
    "\n",
    "for filename in tqdm(filenames):\n",
    "    tracks = []\n",
    "    \n",
    "    song = guitarpro.parse(filename)\n",
    "    \n",
    "    for track in song.tracks:\n",
    "        if track.isPercussionTrack:\n",
    "            continue\n",
    "        \n",
    "        tracks.append(track)\n",
    "        \n",
    "    track_collections.append(tracks)\n",
    "    track_names.append(filename)\n",
    "        \n",
    "\n",
    "print(f'Number of songs: {len(track_collections)}')\n",
    "\n",
    "#[print(track.name) for track in tracks]"
   ]
  },
  {
   "cell_type": "markdown",
   "id": "8b31ef8f-6f6e-4f6a-adff-897898123c61",
   "metadata": {},
   "source": [
    "## Song Compression"
   ]
  },
  {
   "cell_type": "code",
   "execution_count": 4,
   "id": "a43df549-4e6b-4e82-a27b-6564d371afd8",
   "metadata": {},
   "outputs": [
    {
     "name": "stderr",
     "output_type": "stream",
     "text": [
      "100%|██████████| 73/73 [00:10<00:00,  6.73it/s]\n"
     ]
    }
   ],
   "source": [
    "song_measures = []\n",
    "\n",
    "num_rest_measures = 0\n",
    "\n",
    "for song in tqdm(track_collections):\n",
    "    \n",
    "    measures = []\n",
    "    \n",
    "    for track in song:\n",
    "\n",
    "        compressed_track = compress_track(track)\n",
    "\n",
    "        # Ignore the current track if it only contains rests.\n",
    "        if all(all(beat[0] == 'rest' for beat in measure) for measure in compressed_track):\n",
    "            continue\n",
    "\n",
    "        # Add each beat's note to the notes list.\n",
    "        for measure in compressed_track:\n",
    "\n",
    "            # Skip measures that are only rests or tied notes.\n",
    "            if all(beat[0] == 'rest' or beat[0] == 'tied' for beat in measure):\n",
    "                num_rest_measures += 1\n",
    "                continue\n",
    "\n",
    "            measures.append(measure)\n",
    "            \n",
    "    song_measures.append(measures)"
   ]
  },
  {
   "cell_type": "markdown",
   "id": "35ae3a2f-107f-4a46-811f-325c11ded6d5",
   "metadata": {},
   "source": [
    "#### Extracting most frequent sequences of 1 measure"
   ]
  },
  {
   "cell_type": "code",
   "execution_count": 5,
   "id": "9238d340-88f8-4477-839d-fb3f7fa9a98e",
   "metadata": {},
   "outputs": [
    {
     "name": "stderr",
     "output_type": "stream",
     "text": [
      "C:\\Users\\josue\\anaconda3\\lib\\site-packages\\numpy\\core\\_asarray.py:136: VisibleDeprecationWarning: Creating an ndarray from ragged nested sequences (which is a list-or-tuple of lists-or-tuples-or ndarrays with different lengths or shapes) is deprecated. If you meant to do this, you must specify 'dtype=object' when creating the ndarray\n",
      "  return array(a, dtype, copy=False, order=order, subok=True)\n"
     ]
    }
   ],
   "source": [
    "#PERCENT_TOP_MEASURES_TO_KEEP = 0.1\n",
    "NUM_TOP_MEASURES_TO_KEEP = 20\n",
    "\n",
    "beats_song = []\n",
    "\n",
    "#nums = []\n",
    "\n",
    "#for s_i, measures in tqdm(enumerate(song_measures)):\n",
    "for s_i, measures in enumerate(song_measures):\n",
    "    \n",
    "    frequent_measures, counts = np.unique(measures, return_counts=True)\n",
    "\n",
    "    #num_rhythms = int(len(counts) * PERCENT_TOP_MEASURES_TO_KEEP)\n",
    "    num_rhythms = min(len(counts), NUM_TOP_MEASURES_TO_KEEP)\n",
    "    \n",
    "    idx_most_common = np.argpartition(counts, -num_rhythms)[-num_rhythms:]\n",
    "    measures_most_common = frequent_measures[idx_most_common]\n",
    "\n",
    "    beats_song.extend(measures_most_common)\n",
    "    \n",
    "    #print(track_names[s_i], '\\t\\t', num_rhythms)\n",
    "    #nums.append(num_rhythms)"
   ]
  },
  {
   "cell_type": "code",
   "execution_count": 6,
   "id": "ef1f6e32-afd7-4815-98f6-fcfaeb04e3d2",
   "metadata": {},
   "outputs": [
    {
     "name": "stdout",
     "output_type": "stream",
     "text": [
      "Finished\n"
     ]
    }
   ],
   "source": [
    "from _Decompressor import decompress_track\n",
    "\n",
    "MIDI  = {str(GuitarString(number=0, value=val)) : val for val in range(128)}\n",
    "\n",
    "# Standard tuning\n",
    "tuning = {1: MIDI['E4'],\n",
    "          2: MIDI['B3'],\n",
    "          3: MIDI['G3'],\n",
    "          4: MIDI['D3'],\n",
    "          5: MIDI['A2'],\n",
    "          6: MIDI['E2']}\n",
    "\n",
    "# Save beats to a .gp5 file.\n",
    "new_song = decompress_track(beats_song, tuning)\n",
    "\n",
    "guitarpro.write(new_song, '_beats.gp5')\n",
    "print('Finished')"
   ]
  },
  {
   "cell_type": "markdown",
   "id": "45628b34-ec07-49ef-9077-4f45957dab6d",
   "metadata": {},
   "source": [
    "## Converting a measure into a beatmap"
   ]
  },
  {
   "cell_type": "code",
   "execution_count": 7,
   "id": "bfd2a82d-f195-4008-bdd5-604da65713a5",
   "metadata": {},
   "outputs": [],
   "source": [
    "def get_beatmap(measure):\n",
    "    REST = 0\n",
    "    NOTE_TIED = 1\n",
    "    NOTE_START = 2\n",
    "\n",
    "\n",
    "    beatmap = np.zeros(32)\n",
    "    idx = 0\n",
    "\n",
    "    for b_i, beat in enumerate(measure):\n",
    "        # Make sure that assigning to beatmap[i] does not occur for i >= 32.\n",
    "        if idx >= 32:\n",
    "            break\n",
    "\n",
    "\n",
    "        #print(b_i, beat)\n",
    "\n",
    "        num_thirty_seconds = int((32 // beat[1]) * (1 + 0.5 * beat[2])) // 1\n",
    "\n",
    "        if beat[0] == 'rest':\n",
    "            idx += num_thirty_seconds\n",
    "            continue\n",
    "\n",
    "\n",
    "        beatmap[idx] = NOTE_TIED if beat[0] == 'tied' else NOTE_START\n",
    "        idx += 1\n",
    "\n",
    "        upper_idx = min(32, idx + num_thirty_seconds - 1)\n",
    "\n",
    "\n",
    "        beatmap[idx:upper_idx] = NOTE_TIED\n",
    "        idx = upper_idx\n",
    "        \n",
    "    return beatmap"
   ]
  },
  {
   "cell_type": "code",
   "execution_count": 8,
   "id": "74f6a9ca-ae88-45b9-b7c1-4648864d9723",
   "metadata": {},
   "outputs": [],
   "source": [
    "from matplotlib import pyplot as plt\n",
    "\n",
    "\n",
    "def plot_beatmap(beatmap):\n",
    "    plt.imshow(np.vstack([beatmap for _ in range(10)]))\n",
    "    plt.xticks(np.arange(0, 32, 4))\n",
    "    plt.grid()\n",
    "    plt.show()"
   ]
  },
  {
   "cell_type": "markdown",
   "id": "31852eea-364e-4ccf-a040-f9c3a2ca63b9",
   "metadata": {},
   "source": [
    "## Get all unique beat patterns"
   ]
  },
  {
   "cell_type": "code",
   "execution_count": 9,
   "id": "051889fe-9f6b-461c-a1dd-00db545c3b7f",
   "metadata": {},
   "outputs": [],
   "source": [
    "arr = np.array([get_beatmap(measure) for measure in beats_song])\n",
    "unique_beats = np.unique(arr, axis=0)"
   ]
  },
  {
   "cell_type": "code",
   "execution_count": 10,
   "id": "56da2073-2a16-4ec2-9868-38073ac9d059",
   "metadata": {},
   "outputs": [
    {
     "data": {
      "text/plain": [
       "(539, 32)"
      ]
     },
     "execution_count": 10,
     "metadata": {},
     "output_type": "execute_result"
    }
   ],
   "source": [
    "unique_beats.shape"
   ]
  },
  {
   "cell_type": "code",
   "execution_count": 17,
   "id": "b140b80f-13f9-4991-bf89-09287038e434",
   "metadata": {},
   "outputs": [
    {
     "data": {
      "image/png": "[encoded data removed]",
      "text/plain": [
       "<Figure size 432x288 with 1 Axes>"
      ]
     },
     "metadata": {
      "needs_background": "light"
     },
     "output_type": "display_data"
    }
   ],
   "source": [
    "plot_beatmap(unique_beats[280])"
   ]
  },
  {
   "cell_type": "code",
   "execution_count": 12,
   "id": "9c6c7607-26f9-41f7-9d63-9fb725ae554f",
   "metadata": {},
   "outputs": [
    {
     "data": {
      "image/png": "[encoded data removed]",
      "text/plain": [
       "<Figure size 432x288 with 1 Axes>"
      ]
     },
     "metadata": {
      "needs_background": "light"
     },
     "output_type": "display_data"
    }
   ],
   "source": [
    "plot_beatmap(unique_beats[326])"
   ]
  },
  {
   "cell_type": "code",
   "execution_count": 13,
   "id": "8e5c2cd5-f07f-4af3-9cca-f15d5dd72ab3",
   "metadata": {},
   "outputs": [
    {
     "data": {
      "image/png": "[encoded data removed]",
      "text/plain": [
       "<Figure size 432x288 with 1 Axes>"
      ]
     },
     "metadata": {
      "needs_background": "light"
     },
     "output_type": "display_data"
    }
   ],
   "source": [
    "plot_beatmap(unique_beats[404])"
   ]
  }
 ],
 "metadata": {
  "colab": {
   "collapsed_sections": [],
   "name": "Metal Music Sampling.ipynb",
   "provenance": []
  },
  "kernelspec": {
   "display_name": "Python 3",
   "language": "python",
   "name": "python3"
  },
  "language_info": {
   "codemirror_mode": {
    "name": "ipython",
    "version": 3
   },
   "file_extension": ".py",
   "mimetype": "text/x-python",
   "name": "python",
   "nbconvert_exporter": "python",
   "pygments_lexer": "ipython3",
   "version": "3.8.8"
  }
 },
 "nbformat": 4,
 "nbformat_minor": 5
}
