{
 "cells": [
  {
   "cell_type": "markdown",
   "id": "38661108-3e67-4816-8739-ba6be30db40e",
   "metadata": {},
   "source": [
    "# Neural Network Training (Run on a GPU)\n",
    "\n",
    "References: \n",
    "\n",
    "https://github.com/shubham3121/music-generation-using-rnn \n",
    "\n",
    "https://www.hackerearth.com/blog/developers/jazz-music-using-deep-learning/"
   ]
  },
  {
   "cell_type": "markdown",
   "id": "c306bae0-1a59-477d-b278-c70508b81401",
   "metadata": {},
   "source": [
    "## Imports"
   ]
  },
  {
   "cell_type": "code",
   "execution_count": 5,
   "id": "56ce891a-3f0b-4502-a536-9b16d0267e34",
   "metadata": {},
   "outputs": [],
   "source": [
    "from matplotlib import pyplot as plt\n",
    "import pickle\n",
    "\n",
    "from keras.callbacks import ModelCheckpoint\n",
    "from keras.models import Sequential\n",
    "from keras.layers import Activation, Dense, LSTM, Dropout, Flatten\n",
    "from keras.utils import np_utils"
   ]
  },
  {
   "cell_type": "markdown",
   "id": "9dd04675-1e78-46ee-9e53-2c13fbfa4158",
   "metadata": {},
   "source": [
    "## Load Data"
   ]
  },
  {
   "cell_type": "code",
   "execution_count": 10,
   "id": "c4698dd6-f4f3-4fb0-8476-9f7bd9332463",
   "metadata": {},
   "outputs": [],
   "source": [
    "with open('network_data', 'rb') as filepath:\n",
    "    network_input = pickle.load(filepath)\n",
    "    network_output = pickle.load(filepath)\n",
    "    n_vocab = pickle.load(filepath)"
   ]
  },
  {
   "cell_type": "markdown",
   "id": "d50bb4c0-2bcd-4062-8c83-3e4b79e47d19",
   "metadata": {},
   "source": [
    "## Train the Network on the Data"
   ]
  },
  {
   "cell_type": "code",
   "execution_count": 2,
   "id": "42268d59-588c-486d-b4af-280e69a0d100",
   "metadata": {
    "id": "522b0779-93db-421c-bd6d-1c141043de0b"
   },
   "outputs": [],
   "source": [
    "def create_network(network_in, n_vocab): \n",
    "    \"\"\"Create the model architecture\"\"\"\n",
    "    model = Sequential()\n",
    "    model.add(LSTM(128, input_shape=network_in.shape[1:], return_sequences=True))\n",
    "    model.add(Dropout(0.2))\n",
    "    model.add(LSTM(128, return_sequences=True))\n",
    "    model.add(Flatten())\n",
    "    model.add(Dense(256))\n",
    "    model.add(Dropout(0.3))\n",
    "    model.add(Dense(n_vocab))\n",
    "    model.add(Activation('softmax'))\n",
    "    model.compile(loss='categorical_crossentropy', optimizer='adam')\n",
    "\n",
    "    return model"
   ]
  },
  {
   "cell_type": "code",
   "execution_count": 3,
   "id": "a49a0dd7-a8dc-4807-849d-851e84e41cf3",
   "metadata": {
    "id": "d0e0f888-5766-4818-9d6b-b668f7ef9001"
   },
   "outputs": [],
   "source": [
    "def train(model, network_input, network_output, epochs): \n",
    "    \"\"\"\n",
    "    Train the neural network\n",
    "    \"\"\"\n",
    "    # Create checkpoint to save the best model weights.\n",
    "    filepath = 'weights.best.music3.hdf5'\n",
    "    checkpoint = ModelCheckpoint(filepath, monitor='loss', verbose=0, save_best_only=True)\n",
    "    \n",
    "    history = model.fit(network_input, network_output, epochs=epochs, batch_size=32, callbacks=[checkpoint])\n",
    "    \n",
    "    return history"
   ]
  },
  {
   "cell_type": "code",
   "execution_count": null,
   "id": "4df377c0-c390-4b17-9869-9b8020e55a6f",
   "metadata": {
    "colab": {
     "base_uri": "https://localhost:8080/"
    },
    "id": "8bbbdb6b-58a8-472e-be62-058f4264fc69",
    "outputId": "a5df9aeb-2511-4b8d-c347-3ab4bf2cb72e"
   },
   "outputs": [],
   "source": [
    "#epochs = 200 # 200 caused runtime disconnection\n",
    "epochs = 200\n",
    "\n",
    "model = create_network(network_input, n_vocab)\n",
    "print('Model created')\n",
    "\n",
    "#return model\n",
    "'''\n",
    "TODO: Investigate learning rate?\n",
    "'''\n",
    "\n",
    "\n",
    "print('Training in progress')\n",
    "history = train(model, network_input, network_output, epochs)\n",
    "print('Training completed')"
   ]
  },
  {
   "cell_type": "markdown",
   "id": "36a46204-61f4-45d1-bde7-803baf8715db",
   "metadata": {},
   "source": [
    "## Once this is done, move the .hdf5 for offline prediction.\n",
    "## Accuracy graph:"
   ]
  },
  {
   "cell_type": "code",
   "execution_count": null,
   "id": "52e00e95-9480-4341-89be-d3a9e2b35054",
   "metadata": {},
   "outputs": [],
   "source": [
    "#history = model1.fit(train_x, train_y,validation_split = 0.1, epochs=50, batch_size=4)\n",
    "plt.figure()\n",
    "plt.plot(history.history['loss'])\n",
    "#plt.plot(history.history['val_acc']) # No validation set, so we can't graph this yet.\n",
    "plt.title('model loss')\n",
    "plt.ylabel('loss')\n",
    "plt.xlabel('epoch')\n",
    "# plt.legend(['train', 'val'], loc='upper left') # No validation set, so we can't graph this yet.\n",
    "plt.show()"
   ]
  }
 ],
 "metadata": {
  "kernelspec": {
   "display_name": "Python 3",
   "language": "python",
   "name": "python3"
  },
  "language_info": {
   "codemirror_mode": {
    "name": "ipython",
    "version": 3
   },
   "file_extension": ".py",
   "mimetype": "text/x-python",
   "name": "python",
   "nbconvert_exporter": "python",
   "pygments_lexer": "ipython3",
   "version": "3.8.8"
  }
 },
 "nbformat": 4,
 "nbformat_minor": 5
}
